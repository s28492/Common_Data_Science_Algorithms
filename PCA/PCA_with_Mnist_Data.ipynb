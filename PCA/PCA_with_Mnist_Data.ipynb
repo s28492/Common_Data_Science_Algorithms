{
  "cells": [
    {
      "cell_type": "code",
      "execution_count": null,
      "metadata": {
        "id": "EF2zbTiethqK"
      },
      "outputs": [],
      "source": [
        "import pandas as pd\n",
        "import matplotlib.pyplot as plt\n",
        "import numpy as np"
      ]
    },
    {
      "cell_type": "markdown",
      "metadata": {
        "id": "u1HWOf0SvRjB"
      },
      "source": [
        "Ładowanie zbioru treningowego, testowego,i dodawanie nazw kolumn: class, pixel1, pixel2,...pixel 784"
      ]
    },
    {
      "cell_type": "markdown",
      "source": [
        "Załadowano zbiór treningowy i testowy, dodano nazwy kolumn (class, pixel1, pixel2 … pixel 784).\n",
        "\n",
        "    Określono liczbę rekordów oraz cech w zbiorze treningowym i testowym.\n",
        "    Obliczono rozkład kategorii w procentach i przedstawiono go na wykresie słupkowym.\n",
        "    "
      ],
      "metadata": {
        "id": "xccBdvFlkjfz"
      }
    },
    {
      "cell_type": "code",
      "execution_count": null,
      "metadata": {
        "id": "UODw7pJjv3c5"
      },
      "outputs": [],
      "source": [
        "column_names = ['class'] + [f'pixel{i}' for i in range(1, 785)]"
      ]
    },
    {
      "cell_type": "code",
      "execution_count": null,
      "metadata": {
        "id": "9jvX4S2xtm2Y"
      },
      "outputs": [],
      "source": [
        "train_df = pd.read_csv('/content/mnist_train.csv', names= column_names)\n",
        "test_df = pd.read_csv('/content/mnist_test.csv', names= column_names)"
      ]
    },
    {
      "cell_type": "code",
      "execution_count": null,
      "metadata": {
        "id": "REAmiC69YLCT"
      },
      "outputs": [],
      "source": [
        "X_train = train_df.iloc[:, 1:]\n",
        "y_train = train_df.iloc[:, 0]\n",
        "X_test = test_df.iloc[:, 1:]\n",
        "y_test = test_df.iloc[:, 0]"
      ]
    },
    {
      "cell_type": "code",
      "execution_count": null,
      "metadata": {
        "colab": {
          "base_uri": "https://localhost:8080/",
          "height": 255
        },
        "id": "bGKSzQXqxhqQ",
        "outputId": "88d063b1-cbb4-4a67-c671-b5fafbfa0b6d"
      },
      "outputs": [
        {
          "data": {
            "application/vnd.google.colaboratory.intrinsic+json": {
              "type": "dataframe",
              "variable_name": "train_df"
            },
            "text/html": [
              "\n",
              "  <div id=\"df-a0507b70-2834-49e3-98d1-c7b842fbcf44\" class=\"colab-df-container\">\n",
              "    <div>\n",
              "<style scoped>\n",
              "    .dataframe tbody tr th:only-of-type {\n",
              "        vertical-align: middle;\n",
              "    }\n",
              "\n",
              "    .dataframe tbody tr th {\n",
              "        vertical-align: top;\n",
              "    }\n",
              "\n",
              "    .dataframe thead th {\n",
              "        text-align: right;\n",
              "    }\n",
              "</style>\n",
              "<table border=\"1\" class=\"dataframe\">\n",
              "  <thead>\n",
              "    <tr style=\"text-align: right;\">\n",
              "      <th></th>\n",
              "      <th>class</th>\n",
              "      <th>pixel1</th>\n",
              "      <th>pixel2</th>\n",
              "      <th>pixel3</th>\n",
              "      <th>pixel4</th>\n",
              "      <th>pixel5</th>\n",
              "      <th>pixel6</th>\n",
              "      <th>pixel7</th>\n",
              "      <th>pixel8</th>\n",
              "      <th>pixel9</th>\n",
              "      <th>...</th>\n",
              "      <th>pixel775</th>\n",
              "      <th>pixel776</th>\n",
              "      <th>pixel777</th>\n",
              "      <th>pixel778</th>\n",
              "      <th>pixel779</th>\n",
              "      <th>pixel780</th>\n",
              "      <th>pixel781</th>\n",
              "      <th>pixel782</th>\n",
              "      <th>pixel783</th>\n",
              "      <th>pixel784</th>\n",
              "    </tr>\n",
              "  </thead>\n",
              "  <tbody>\n",
              "    <tr>\n",
              "      <th>0</th>\n",
              "      <td>5</td>\n",
              "      <td>0</td>\n",
              "      <td>0</td>\n",
              "      <td>0</td>\n",
              "      <td>0</td>\n",
              "      <td>0</td>\n",
              "      <td>0</td>\n",
              "      <td>0</td>\n",
              "      <td>0</td>\n",
              "      <td>0</td>\n",
              "      <td>...</td>\n",
              "      <td>0</td>\n",
              "      <td>0</td>\n",
              "      <td>0</td>\n",
              "      <td>0</td>\n",
              "      <td>0</td>\n",
              "      <td>0</td>\n",
              "      <td>0</td>\n",
              "      <td>0</td>\n",
              "      <td>0</td>\n",
              "      <td>0</td>\n",
              "    </tr>\n",
              "    <tr>\n",
              "      <th>1</th>\n",
              "      <td>0</td>\n",
              "      <td>0</td>\n",
              "      <td>0</td>\n",
              "      <td>0</td>\n",
              "      <td>0</td>\n",
              "      <td>0</td>\n",
              "      <td>0</td>\n",
              "      <td>0</td>\n",
              "      <td>0</td>\n",
              "      <td>0</td>\n",
              "      <td>...</td>\n",
              "      <td>0</td>\n",
              "      <td>0</td>\n",
              "      <td>0</td>\n",
              "      <td>0</td>\n",
              "      <td>0</td>\n",
              "      <td>0</td>\n",
              "      <td>0</td>\n",
              "      <td>0</td>\n",
              "      <td>0</td>\n",
              "      <td>0</td>\n",
              "    </tr>\n",
              "    <tr>\n",
              "      <th>2</th>\n",
              "      <td>4</td>\n",
              "      <td>0</td>\n",
              "      <td>0</td>\n",
              "      <td>0</td>\n",
              "      <td>0</td>\n",
              "      <td>0</td>\n",
              "      <td>0</td>\n",
              "      <td>0</td>\n",
              "      <td>0</td>\n",
              "      <td>0</td>\n",
              "      <td>...</td>\n",
              "      <td>0</td>\n",
              "      <td>0</td>\n",
              "      <td>0</td>\n",
              "      <td>0</td>\n",
              "      <td>0</td>\n",
              "      <td>0</td>\n",
              "      <td>0</td>\n",
              "      <td>0</td>\n",
              "      <td>0</td>\n",
              "      <td>0</td>\n",
              "    </tr>\n",
              "    <tr>\n",
              "      <th>3</th>\n",
              "      <td>1</td>\n",
              "      <td>0</td>\n",
              "      <td>0</td>\n",
              "      <td>0</td>\n",
              "      <td>0</td>\n",
              "      <td>0</td>\n",
              "      <td>0</td>\n",
              "      <td>0</td>\n",
              "      <td>0</td>\n",
              "      <td>0</td>\n",
              "      <td>...</td>\n",
              "      <td>0</td>\n",
              "      <td>0</td>\n",
              "      <td>0</td>\n",
              "      <td>0</td>\n",
              "      <td>0</td>\n",
              "      <td>0</td>\n",
              "      <td>0</td>\n",
              "      <td>0</td>\n",
              "      <td>0</td>\n",
              "      <td>0</td>\n",
              "    </tr>\n",
              "    <tr>\n",
              "      <th>4</th>\n",
              "      <td>9</td>\n",
              "      <td>0</td>\n",
              "      <td>0</td>\n",
              "      <td>0</td>\n",
              "      <td>0</td>\n",
              "      <td>0</td>\n",
              "      <td>0</td>\n",
              "      <td>0</td>\n",
              "      <td>0</td>\n",
              "      <td>0</td>\n",
              "      <td>...</td>\n",
              "      <td>0</td>\n",
              "      <td>0</td>\n",
              "      <td>0</td>\n",
              "      <td>0</td>\n",
              "      <td>0</td>\n",
              "      <td>0</td>\n",
              "      <td>0</td>\n",
              "      <td>0</td>\n",
              "      <td>0</td>\n",
              "      <td>0</td>\n",
              "    </tr>\n",
              "  </tbody>\n",
              "</table>\n",
              "<p>5 rows × 785 columns</p>\n",
              "</div>\n",
              "    <div class=\"colab-df-buttons\">\n",
              "\n",
              "  <div class=\"colab-df-container\">\n",
              "    <button class=\"colab-df-convert\" onclick=\"convertToInteractive('df-a0507b70-2834-49e3-98d1-c7b842fbcf44')\"\n",
              "            title=\"Convert this dataframe to an interactive table.\"\n",
              "            style=\"display:none;\">\n",
              "\n",
              "  <svg xmlns=\"http://www.w3.org/2000/svg\" height=\"24px\" viewBox=\"0 -960 960 960\">\n",
              "    <path d=\"M120-120v-720h720v720H120Zm60-500h600v-160H180v160Zm220 220h160v-160H400v160Zm0 220h160v-160H400v160ZM180-400h160v-160H180v160Zm440 0h160v-160H620v160ZM180-180h160v-160H180v160Zm440 0h160v-160H620v160Z\"/>\n",
              "  </svg>\n",
              "    </button>\n",
              "\n",
              "  <style>\n",
              "    .colab-df-container {\n",
              "      display:flex;\n",
              "      gap: 12px;\n",
              "    }\n",
              "\n",
              "    .colab-df-convert {\n",
              "      background-color: #E8F0FE;\n",
              "      border: none;\n",
              "      border-radius: 50%;\n",
              "      cursor: pointer;\n",
              "      display: none;\n",
              "      fill: #1967D2;\n",
              "      height: 32px;\n",
              "      padding: 0 0 0 0;\n",
              "      width: 32px;\n",
              "    }\n",
              "\n",
              "    .colab-df-convert:hover {\n",
              "      background-color: #E2EBFA;\n",
              "      box-shadow: 0px 1px 2px rgba(60, 64, 67, 0.3), 0px 1px 3px 1px rgba(60, 64, 67, 0.15);\n",
              "      fill: #174EA6;\n",
              "    }\n",
              "\n",
              "    .colab-df-buttons div {\n",
              "      margin-bottom: 4px;\n",
              "    }\n",
              "\n",
              "    [theme=dark] .colab-df-convert {\n",
              "      background-color: #3B4455;\n",
              "      fill: #D2E3FC;\n",
              "    }\n",
              "\n",
              "    [theme=dark] .colab-df-convert:hover {\n",
              "      background-color: #434B5C;\n",
              "      box-shadow: 0px 1px 3px 1px rgba(0, 0, 0, 0.15);\n",
              "      filter: drop-shadow(0px 1px 2px rgba(0, 0, 0, 0.3));\n",
              "      fill: #FFFFFF;\n",
              "    }\n",
              "  </style>\n",
              "\n",
              "    <script>\n",
              "      const buttonEl =\n",
              "        document.querySelector('#df-a0507b70-2834-49e3-98d1-c7b842fbcf44 button.colab-df-convert');\n",
              "      buttonEl.style.display =\n",
              "        google.colab.kernel.accessAllowed ? 'block' : 'none';\n",
              "\n",
              "      async function convertToInteractive(key) {\n",
              "        const element = document.querySelector('#df-a0507b70-2834-49e3-98d1-c7b842fbcf44');\n",
              "        const dataTable =\n",
              "          await google.colab.kernel.invokeFunction('convertToInteractive',\n",
              "                                                    [key], {});\n",
              "        if (!dataTable) return;\n",
              "\n",
              "        const docLinkHtml = 'Like what you see? Visit the ' +\n",
              "          '<a target=\"_blank\" href=https://colab.research.google.com/notebooks/data_table.ipynb>data table notebook</a>'\n",
              "          + ' to learn more about interactive tables.';\n",
              "        element.innerHTML = '';\n",
              "        dataTable['output_type'] = 'display_data';\n",
              "        await google.colab.output.renderOutput(dataTable, element);\n",
              "        const docLink = document.createElement('div');\n",
              "        docLink.innerHTML = docLinkHtml;\n",
              "        element.appendChild(docLink);\n",
              "      }\n",
              "    </script>\n",
              "  </div>\n",
              "\n",
              "\n",
              "<div id=\"df-1f3ccd58-c83c-4aba-a022-0a9c562f7138\">\n",
              "  <button class=\"colab-df-quickchart\" onclick=\"quickchart('df-1f3ccd58-c83c-4aba-a022-0a9c562f7138')\"\n",
              "            title=\"Suggest charts\"\n",
              "            style=\"display:none;\">\n",
              "\n",
              "<svg xmlns=\"http://www.w3.org/2000/svg\" height=\"24px\"viewBox=\"0 0 24 24\"\n",
              "     width=\"24px\">\n",
              "    <g>\n",
              "        <path d=\"M19 3H5c-1.1 0-2 .9-2 2v14c0 1.1.9 2 2 2h14c1.1 0 2-.9 2-2V5c0-1.1-.9-2-2-2zM9 17H7v-7h2v7zm4 0h-2V7h2v10zm4 0h-2v-4h2v4z\"/>\n",
              "    </g>\n",
              "</svg>\n",
              "  </button>\n",
              "\n",
              "<style>\n",
              "  .colab-df-quickchart {\n",
              "      --bg-color: #E8F0FE;\n",
              "      --fill-color: #1967D2;\n",
              "      --hover-bg-color: #E2EBFA;\n",
              "      --hover-fill-color: #174EA6;\n",
              "      --disabled-fill-color: #AAA;\n",
              "      --disabled-bg-color: #DDD;\n",
              "  }\n",
              "\n",
              "  [theme=dark] .colab-df-quickchart {\n",
              "      --bg-color: #3B4455;\n",
              "      --fill-color: #D2E3FC;\n",
              "      --hover-bg-color: #434B5C;\n",
              "      --hover-fill-color: #FFFFFF;\n",
              "      --disabled-bg-color: #3B4455;\n",
              "      --disabled-fill-color: #666;\n",
              "  }\n",
              "\n",
              "  .colab-df-quickchart {\n",
              "    background-color: var(--bg-color);\n",
              "    border: none;\n",
              "    border-radius: 50%;\n",
              "    cursor: pointer;\n",
              "    display: none;\n",
              "    fill: var(--fill-color);\n",
              "    height: 32px;\n",
              "    padding: 0;\n",
              "    width: 32px;\n",
              "  }\n",
              "\n",
              "  .colab-df-quickchart:hover {\n",
              "    background-color: var(--hover-bg-color);\n",
              "    box-shadow: 0 1px 2px rgba(60, 64, 67, 0.3), 0 1px 3px 1px rgba(60, 64, 67, 0.15);\n",
              "    fill: var(--button-hover-fill-color);\n",
              "  }\n",
              "\n",
              "  .colab-df-quickchart-complete:disabled,\n",
              "  .colab-df-quickchart-complete:disabled:hover {\n",
              "    background-color: var(--disabled-bg-color);\n",
              "    fill: var(--disabled-fill-color);\n",
              "    box-shadow: none;\n",
              "  }\n",
              "\n",
              "  .colab-df-spinner {\n",
              "    border: 2px solid var(--fill-color);\n",
              "    border-color: transparent;\n",
              "    border-bottom-color: var(--fill-color);\n",
              "    animation:\n",
              "      spin 1s steps(1) infinite;\n",
              "  }\n",
              "\n",
              "  @keyframes spin {\n",
              "    0% {\n",
              "      border-color: transparent;\n",
              "      border-bottom-color: var(--fill-color);\n",
              "      border-left-color: var(--fill-color);\n",
              "    }\n",
              "    20% {\n",
              "      border-color: transparent;\n",
              "      border-left-color: var(--fill-color);\n",
              "      border-top-color: var(--fill-color);\n",
              "    }\n",
              "    30% {\n",
              "      border-color: transparent;\n",
              "      border-left-color: var(--fill-color);\n",
              "      border-top-color: var(--fill-color);\n",
              "      border-right-color: var(--fill-color);\n",
              "    }\n",
              "    40% {\n",
              "      border-color: transparent;\n",
              "      border-right-color: var(--fill-color);\n",
              "      border-top-color: var(--fill-color);\n",
              "    }\n",
              "    60% {\n",
              "      border-color: transparent;\n",
              "      border-right-color: var(--fill-color);\n",
              "    }\n",
              "    80% {\n",
              "      border-color: transparent;\n",
              "      border-right-color: var(--fill-color);\n",
              "      border-bottom-color: var(--fill-color);\n",
              "    }\n",
              "    90% {\n",
              "      border-color: transparent;\n",
              "      border-bottom-color: var(--fill-color);\n",
              "    }\n",
              "  }\n",
              "</style>\n",
              "\n",
              "  <script>\n",
              "    async function quickchart(key) {\n",
              "      const quickchartButtonEl =\n",
              "        document.querySelector('#' + key + ' button');\n",
              "      quickchartButtonEl.disabled = true;  // To prevent multiple clicks.\n",
              "      quickchartButtonEl.classList.add('colab-df-spinner');\n",
              "      try {\n",
              "        const charts = await google.colab.kernel.invokeFunction(\n",
              "            'suggestCharts', [key], {});\n",
              "      } catch (error) {\n",
              "        console.error('Error during call to suggestCharts:', error);\n",
              "      }\n",
              "      quickchartButtonEl.classList.remove('colab-df-spinner');\n",
              "      quickchartButtonEl.classList.add('colab-df-quickchart-complete');\n",
              "    }\n",
              "    (() => {\n",
              "      let quickchartButtonEl =\n",
              "        document.querySelector('#df-1f3ccd58-c83c-4aba-a022-0a9c562f7138 button');\n",
              "      quickchartButtonEl.style.display =\n",
              "        google.colab.kernel.accessAllowed ? 'block' : 'none';\n",
              "    })();\n",
              "  </script>\n",
              "</div>\n",
              "\n",
              "    </div>\n",
              "  </div>\n"
            ],
            "text/plain": [
              "   class  pixel1  pixel2  pixel3  pixel4  pixel5  pixel6  pixel7  pixel8  \\\n",
              "0      5       0       0       0       0       0       0       0       0   \n",
              "1      0       0       0       0       0       0       0       0       0   \n",
              "2      4       0       0       0       0       0       0       0       0   \n",
              "3      1       0       0       0       0       0       0       0       0   \n",
              "4      9       0       0       0       0       0       0       0       0   \n",
              "\n",
              "   pixel9  ...  pixel775  pixel776  pixel777  pixel778  pixel779  pixel780  \\\n",
              "0       0  ...         0         0         0         0         0         0   \n",
              "1       0  ...         0         0         0         0         0         0   \n",
              "2       0  ...         0         0         0         0         0         0   \n",
              "3       0  ...         0         0         0         0         0         0   \n",
              "4       0  ...         0         0         0         0         0         0   \n",
              "\n",
              "   pixel781  pixel782  pixel783  pixel784  \n",
              "0         0         0         0         0  \n",
              "1         0         0         0         0  \n",
              "2         0         0         0         0  \n",
              "3         0         0         0         0  \n",
              "4         0         0         0         0  \n",
              "\n",
              "[5 rows x 785 columns]"
            ]
          },
          "execution_count": 107,
          "metadata": {},
          "output_type": "execute_result"
        }
      ],
      "source": [
        "train_df.head()"
      ]
    },
    {
      "cell_type": "markdown",
      "metadata": {
        "id": "sIIIXc3RvM9n"
      },
      "source": [
        "Przeanalizowano główne składowe PCA:\n",
        "\n",
        "    Ustalono wartość parametru pca.explained_variance_ratio_, aby wyjaśniona wariancja wynosiła 90%.\n",
        "    Obliczono liczbę wymiarów potrzebną do osiągnięcia tej wartości."
      ]
    },
    {
      "cell_type": "code",
      "execution_count": null,
      "metadata": {
        "colab": {
          "base_uri": "https://localhost:8080/"
        },
        "id": "Qy0QhBvHxmIT",
        "outputId": "b60dfb5a-a471-46cb-ac32-2c3f92a66a85"
      },
      "outputs": [
        {
          "data": {
            "text/plain": [
              "(60000, 785)"
            ]
          },
          "execution_count": 108,
          "metadata": {},
          "output_type": "execute_result"
        }
      ],
      "source": [
        "train_df.shape"
      ]
    },
    {
      "cell_type": "code",
      "execution_count": null,
      "metadata": {
        "colab": {
          "base_uri": "https://localhost:8080/"
        },
        "id": "z0nMPX5Nxynn",
        "outputId": "6746af74-4cc8-46bb-cdf8-e4629734fda3"
      },
      "outputs": [
        {
          "data": {
            "text/plain": [
              "(10000, 785)"
            ]
          },
          "execution_count": 109,
          "metadata": {},
          "output_type": "execute_result"
        }
      ],
      "source": [
        "test_df.shape"
      ]
    },
    {
      "cell_type": "code",
      "execution_count": null,
      "metadata": {
        "colab": {
          "base_uri": "https://localhost:8080/"
        },
        "id": "Fs7dpH5CInRh",
        "outputId": "ea9a036e-3cc5-4a61-e346-b6e00384db45"
      },
      "outputs": [
        {
          "name": "stdout",
          "output_type": "stream",
          "text": [
            "<class 'pandas.core.series.Series'>\n",
            "RangeIndex: 60000 entries, 0 to 59999\n",
            "Series name: class\n",
            "Non-Null Count  Dtype\n",
            "--------------  -----\n",
            "60000 non-null  int64\n",
            "dtypes: int64(1)\n",
            "memory usage: 468.9 KB\n"
          ]
        }
      ],
      "source": [
        "train_df[\"class\"].info()"
      ]
    },
    {
      "cell_type": "markdown",
      "metadata": {
        "id": "czjX6yuevRf4"
      },
      "source": [
        "Wyznaczyć rozkład kategorii (w procentach)."
      ]
    },
    {
      "cell_type": "code",
      "execution_count": null,
      "metadata": {
        "colab": {
          "base_uri": "https://localhost:8080/",
          "height": 449
        },
        "id": "lKibwXSjx4Jo",
        "outputId": "8ca12215-476a-4c2f-cbe5-1281baf10aee"
      },
      "outputs": [
        {
          "output_type": "execute_result",
          "data": {
            "text/plain": [
              "class\n",
              "1    5092\n",
              "3    4672\n",
              "7    4648\n",
              "9    4518\n",
              "0    4452\n",
              "6    4410\n",
              "2    4364\n",
              "4    4356\n",
              "8    4278\n",
              "5    3962\n",
              "Name: count, dtype: int64"
            ],
            "text/html": [
              "<div>\n",
              "<style scoped>\n",
              "    .dataframe tbody tr th:only-of-type {\n",
              "        vertical-align: middle;\n",
              "    }\n",
              "\n",
              "    .dataframe tbody tr th {\n",
              "        vertical-align: top;\n",
              "    }\n",
              "\n",
              "    .dataframe thead th {\n",
              "        text-align: right;\n",
              "    }\n",
              "</style>\n",
              "<table border=\"1\" class=\"dataframe\">\n",
              "  <thead>\n",
              "    <tr style=\"text-align: right;\">\n",
              "      <th></th>\n",
              "      <th>count</th>\n",
              "    </tr>\n",
              "    <tr>\n",
              "      <th>class</th>\n",
              "      <th></th>\n",
              "    </tr>\n",
              "  </thead>\n",
              "  <tbody>\n",
              "    <tr>\n",
              "      <th>1</th>\n",
              "      <td>5092</td>\n",
              "    </tr>\n",
              "    <tr>\n",
              "      <th>3</th>\n",
              "      <td>4672</td>\n",
              "    </tr>\n",
              "    <tr>\n",
              "      <th>7</th>\n",
              "      <td>4648</td>\n",
              "    </tr>\n",
              "    <tr>\n",
              "      <th>9</th>\n",
              "      <td>4518</td>\n",
              "    </tr>\n",
              "    <tr>\n",
              "      <th>0</th>\n",
              "      <td>4452</td>\n",
              "    </tr>\n",
              "    <tr>\n",
              "      <th>6</th>\n",
              "      <td>4410</td>\n",
              "    </tr>\n",
              "    <tr>\n",
              "      <th>2</th>\n",
              "      <td>4364</td>\n",
              "    </tr>\n",
              "    <tr>\n",
              "      <th>4</th>\n",
              "      <td>4356</td>\n",
              "    </tr>\n",
              "    <tr>\n",
              "      <th>8</th>\n",
              "      <td>4278</td>\n",
              "    </tr>\n",
              "    <tr>\n",
              "      <th>5</th>\n",
              "      <td>3962</td>\n",
              "    </tr>\n",
              "  </tbody>\n",
              "</table>\n",
              "</div><br><label><b>dtype:</b> int64</label>"
            ]
          },
          "metadata": {},
          "execution_count": 5
        }
      ],
      "source": [
        "class_distribution = pd.concat([train_df, train_df], axis=0)[\"class\"].value_counts()\n",
        "class_distribution"
      ]
    },
    {
      "cell_type": "markdown",
      "metadata": {
        "id": "AWHgBtMGvRPR"
      },
      "source": [
        "Narysować wykres słupkowy rozkładu kategorii."
      ]
    },
    {
      "cell_type": "code",
      "execution_count": null,
      "metadata": {
        "colab": {
          "base_uri": "https://localhost:8080/",
          "height": 492
        },
        "id": "MOSj4MUjyXjs",
        "outputId": "9c871013-e62d-4820-b13d-e740fb80930e"
      },
      "outputs": [
        {
          "data": {
            "image/png": "[encoded data removed]",
            "text/plain": [
              "<Figure size 640x480 with 1 Axes>"
            ]
          },
          "metadata": {},
          "output_type": "display_data"
        }
      ],
      "source": [
        "plt.bar(class_distribution.index.to_list(), class_distribution.values)\n",
        "plt.xticks(class_distribution.index.to_list())\n",
        "plt.xlabel('Class')\n",
        "plt.ylabel('Count')\n",
        "plt.title('Visualization of class distribution for the MNIST Dataset')\n",
        "plt.show()"
      ]
    },
    {
      "cell_type": "markdown",
      "metadata": {
        "id": "kP254_vgvczZ"
      },
      "source": [
        " Wizualizowanie 8 pierwszych liter w zbiorze uczącym i 8 pierwszych w zbiorze testowym.\n"
      ]
    },
    {
      "cell_type": "code",
      "execution_count": null,
      "metadata": {
        "id": "5It8UwoJ2ATF"
      },
      "outputs": [],
      "source": [
        "def show_first_n_images(df, n):\n",
        "  for i in range(8):\n",
        "    image = df.iloc[i, 1:].to_numpy().reshape(28, 28)\n",
        "    plt.subplot(240+1+i)\n",
        "    plt.imshow(image, cmap='gray')\n",
        "  plt.show()"
      ]
    },
    {
      "cell_type": "code",
      "execution_count": null,
      "metadata": {
        "id": "wAcCLzpgdtwD"
      },
      "outputs": [],
      "source": [
        "import time\n",
        "def aument_data(df):\n",
        "  columns = df.columns.to_list()\n",
        "  labels = df.iloc[:, 0].to_numpy()\n",
        "  images = df.iloc[:, 1:].to_numpy().reshape(-1, 28, 28)\n",
        "  time_start = time.time()\n",
        "  # Przygotowanie przesunięć wzdłuż osi\n",
        "  moved_up = np.roll(images, 1, axis=1).reshape(images.shape[0], -1)\n",
        "  # Przesunięcie w górę\n",
        "  moved_down = np.roll(images, -1, axis=1).reshape(images.shape[0], -1)\n",
        "  # Przesunięcie w dół\n",
        "  moved_left = np.roll(images, 1, axis=2).reshape(images.shape[0], -1)\n",
        "  # Przesunięcie w lewo\n",
        "  moved_right = np.roll(images, -1, axis=2).reshape(images.shape[0], -1)\n",
        "  # Przesunięcie w prawo\n",
        "  original = images.reshape(images.shape[0], -1)  # Oryginalne obrazy\n",
        "\n",
        "  # Dodanie etykiet jako pierwszej kolumny\n",
        "  moved_up = np.hstack((labels[:, None], moved_up))\n",
        "  moved_down = np.hstack((labels[:, None], moved_down))\n",
        "  moved_left = np.hstack((labels[:, None], moved_left))\n",
        "  moved_right = np.hstack((labels[:, None], moved_right))\n",
        "  original = np.hstack((labels[:, None], original))\n",
        "\n",
        "  # Scalanie wszystkich wariantów\n",
        "  augmented_array = np.vstack((original, moved_up, moved_down, moved_left, moved_right))\n",
        "\n",
        "  # Konwersja do DataFrame\n",
        "  full_new_df = pd.DataFrame(augmented_array, columns=columns)\n",
        "\n",
        "  print(f\"Przetwarzanie zakończone w {time.time() - time_start} sekund\")\n",
        "  return full_new_df\n"
      ]
    },
    {
      "cell_type": "code",
      "execution_count": null,
      "metadata": {
        "id": "fiwsjyItgdON"
      },
      "outputs": [],
      "source": [
        "def aument_data(df):\n",
        "  columns = df.columns.to_list()\n",
        "  full_new_df = df.copy(deep=False)\n",
        "  full_new_df = full_new_df[0:0]\n",
        "  array = df.to_numpy()\n",
        "  print(array.shape)"
      ]
    },
    {
      "cell_type": "code",
      "execution_count": null,
      "metadata": {
        "colab": {
          "base_uri": "https://localhost:8080/"
        },
        "id": "U4WOzCiuf08s",
        "outputId": "d4371ee6-b7ad-430f-e1f1-cac9fd9c1c74"
      },
      "outputs": [
        {
          "output_type": "stream",
          "name": "stdout",
          "text": [
            "Przetwarzanie zakończone w 0.8691437244415283 sekund\n"
          ]
        }
      ],
      "source": [
        "aumented_df = aument_data(train_df)"
      ]
    },
    {
      "cell_type": "code",
      "source": [
        "aumented_df.dtypes"
      ],
      "metadata": {
        "colab": {
          "base_uri": "https://localhost:8080/",
          "height": 478
        },
        "id": "vcvke30nw_8h",
        "outputId": "2238e012-fe74-47ed-8648-e1481a782549"
      },
      "execution_count": null,
      "outputs": [
        {
          "output_type": "execute_result",
          "data": {
            "text/plain": [
              "class       float64\n",
              "pixel1      float64\n",
              "pixel2      float64\n",
              "pixel3      float64\n",
              "pixel4      float64\n",
              "             ...   \n",
              "pixel780    float64\n",
              "pixel781    float64\n",
              "pixel782    float64\n",
              "pixel783    float64\n",
              "pixel784    float64\n",
              "Length: 785, dtype: object"
            ],
            "text/html": [
              "<div>\n",
              "<style scoped>\n",
              "    .dataframe tbody tr th:only-of-type {\n",
              "        vertical-align: middle;\n",
              "    }\n",
              "\n",
              "    .dataframe tbody tr th {\n",
              "        vertical-align: top;\n",
              "    }\n",
              "\n",
              "    .dataframe thead th {\n",
              "        text-align: right;\n",
              "    }\n",
              "</style>\n",
              "<table border=\"1\" class=\"dataframe\">\n",
              "  <thead>\n",
              "    <tr style=\"text-align: right;\">\n",
              "      <th></th>\n",
              "      <th>0</th>\n",
              "    </tr>\n",
              "  </thead>\n",
              "  <tbody>\n",
              "    <tr>\n",
              "      <th>class</th>\n",
              "      <td>float64</td>\n",
              "    </tr>\n",
              "    <tr>\n",
              "      <th>pixel1</th>\n",
              "      <td>float64</td>\n",
              "    </tr>\n",
              "    <tr>\n",
              "      <th>pixel2</th>\n",
              "      <td>float64</td>\n",
              "    </tr>\n",
              "    <tr>\n",
              "      <th>pixel3</th>\n",
              "      <td>float64</td>\n",
              "    </tr>\n",
              "    <tr>\n",
              "      <th>pixel4</th>\n",
              "      <td>float64</td>\n",
              "    </tr>\n",
              "    <tr>\n",
              "      <th>...</th>\n",
              "      <td>...</td>\n",
              "    </tr>\n",
              "    <tr>\n",
              "      <th>pixel780</th>\n",
              "      <td>float64</td>\n",
              "    </tr>\n",
              "    <tr>\n",
              "      <th>pixel781</th>\n",
              "      <td>float64</td>\n",
              "    </tr>\n",
              "    <tr>\n",
              "      <th>pixel782</th>\n",
              "      <td>float64</td>\n",
              "    </tr>\n",
              "    <tr>\n",
              "      <th>pixel783</th>\n",
              "      <td>float64</td>\n",
              "    </tr>\n",
              "    <tr>\n",
              "      <th>pixel784</th>\n",
              "      <td>float64</td>\n",
              "    </tr>\n",
              "  </tbody>\n",
              "</table>\n",
              "<p>785 rows × 1 columns</p>\n",
              "</div><br><label><b>dtype:</b> object</label>"
            ]
          },
          "metadata": {},
          "execution_count": 16
        }
      ]
    },
    {
      "cell_type": "code",
      "execution_count": null,
      "metadata": {
        "colab": {
          "base_uri": "https://localhost:8080/"
        },
        "id": "tkEDb_sbiKmj",
        "outputId": "b33a8c6b-586f-4bbc-de5e-39baac838bca"
      },
      "outputs": [
        {
          "data": {
            "text/plain": [
              "(300000, 785)"
            ]
          },
          "execution_count": 126,
          "metadata": {},
          "output_type": "execute_result"
        }
      ],
      "source": [
        "aumented_df.shape"
      ]
    },
    {
      "cell_type": "code",
      "execution_count": null,
      "metadata": {
        "colab": {
          "base_uri": "https://localhost:8080/",
          "height": 393
        },
        "collapsed": true,
        "id": "sPCeBrwE3h1v",
        "outputId": "fb3b0d3b-ac96-49ae-b482-7bd440d4354b"
      },
      "outputs": [
        {
          "data": {
            "image/png": "[encoded data removed]",
            "text/plain": [
              "<Figure size 640x480 with 8 Axes>"
            ]
          },
          "metadata": {},
          "output_type": "display_data"
        }
      ],
      "source": [
        "show_first_n_images(aumented_df, 8)"
      ]
    },
    {
      "cell_type": "markdown",
      "source": [
        "Zwizualizowano dane w ich oryginalnej i skompresowanej postaci."
      ],
      "metadata": {
        "id": "R2hqP7ux4Xj3"
      }
    },
    {
      "cell_type": "code",
      "execution_count": null,
      "metadata": {
        "colab": {
          "base_uri": "https://localhost:8080/",
          "height": 393
        },
        "id": "OIuwKK_y4_38",
        "outputId": "2aec73ef-c031-41bd-aca5-0103eb46c858"
      },
      "outputs": [
        {
          "data": {
            "image/png": "[encoded data removed]",
            "text/plain": [
              "<Figure size 640x480 with 8 Axes>"
            ]
          },
          "metadata": {},
          "output_type": "display_data"
        }
      ],
      "source": [
        "show_first_n_images(test_df, 8)"
      ]
    },
    {
      "cell_type": "markdown",
      "metadata": {
        "id": "CR_nO2gJ5GTm"
      },
      "source": [
        "Tworzenie klasyfikatora Decision tree"
      ]
    },
    {
      "cell_type": "code",
      "execution_count": null,
      "metadata": {
        "id": "WFKhBEf05Fki"
      },
      "outputs": [],
      "source": [
        "from sklearn.tree import DecisionTreeClassifier\n",
        "from sklearn.model_selection import cross_val_score\n",
        "from sklearn.model_selection import StratifiedKFold\n",
        "from sklearn.metrics import classification_report\n",
        "from sklearn.metrics import confusion_matrix\n",
        "from sklearn.metrics import accuracy_score\n",
        "from sklearn.metrics import f1_score"
      ]
    },
    {
      "cell_type": "code",
      "execution_count": null,
      "metadata": {
        "colab": {
          "base_uri": "https://localhost:8080/"
        },
        "id": "jIaLBsNL-nBN",
        "outputId": "82a638a1-91fb-49f7-9867-d7481ea9df6c"
      },
      "outputs": [
        {
          "name": "stdout",
          "output_type": "stream",
          "text": [
            "Accuracy Score: 0.8775\n",
            "Confusion Matrix:\n",
            " [[ 920    1    6    6    5   12   13    3    7    7]\n",
            " [   0 1088   10    2    4    4    7    5   13    2]\n",
            " [   9    9  885   29   15   12    9   27   27   10]\n",
            " [   9    7   27  849    9   54    5    7   22   21]\n",
            " [   6    4   14    5  858    8   14   10   21   42]\n",
            " [  12    7    3   41    8  742   27    4   30   18]\n",
            " [  14    4   10    7   18   21  858    2   19    5]\n",
            " [   2   11   21   13    7    4    3  932   13   22]\n",
            " [  12    7   27   38   23   30   11   12  787   27]\n",
            " [  11    5    7   21   45   13    7   19   25  856]]\n",
            "Classification Report:\n",
            "               precision    recall  f1-score   support\n",
            "\n",
            "           0       0.92      0.94      0.93       980\n",
            "           1       0.95      0.96      0.96      1135\n",
            "           2       0.88      0.86      0.87      1032\n",
            "           3       0.84      0.84      0.84      1010\n",
            "           4       0.86      0.87      0.87       982\n",
            "           5       0.82      0.83      0.83       892\n",
            "           6       0.90      0.90      0.90       958\n",
            "           7       0.91      0.91      0.91      1028\n",
            "           8       0.82      0.81      0.81       974\n",
            "           9       0.85      0.85      0.85      1009\n",
            "\n",
            "    accuracy                           0.88     10000\n",
            "   macro avg       0.88      0.88      0.88     10000\n",
            "weighted avg       0.88      0.88      0.88     10000\n",
            "\n"
          ]
        }
      ],
      "source": [
        "decision_tree = DecisionTreeClassifier(criterion=\"gini\")\n",
        "decision_tree.fit(train_df.iloc[:, 1:], train_df.iloc[:, 0])\n",
        "decision_tree_predictions = decision_tree.predict(test_df.iloc[:, 1:])\n",
        "\n",
        "dt_acc_score = accuracy_score(test_df.iloc[:, 0], decision_tree_predictions)\n",
        "dt_conf_matrix = confusion_matrix(test_df.iloc[:, 0], decision_tree_predictions)\n",
        "dt_class_report = classification_report(test_df.iloc[:, 0], dt_decision_tree_predictions)\n",
        "\n",
        "print(\"Accuracy Score:\", acc_score)\n",
        "print(\"Confusion Matrix:\\n\", conf_matrix)\n",
        "print(\"Classification Report:\\n\", class_report)"
      ]
    },
    {
      "cell_type": "code",
      "execution_count": null,
      "metadata": {
        "colab": {
          "base_uri": "https://localhost:8080/"
        },
        "id": "3zb2phokiTGJ",
        "outputId": "90993d29-1f4c-4333-95e5-6c74771f8427"
      },
      "outputs": [
        {
          "name": "stdout",
          "output_type": "stream",
          "text": [
            "Accuracy Score: 0.9097\n",
            "Confusion Matrix:\n",
            " [[ 931    0    4    1   10    9   13    4    5    3]\n",
            " [   0 1103    3    6    5    2    7    2    7    0]\n",
            " [   7   11  925   19   10    3    7   20   26    4]\n",
            " [   3    2   22  900    2   30    3    7   30   11]\n",
            " [   2    4    7    5  891    6   12    6   13   36]\n",
            " [   7    5    3   27    7  788   12    7   21   15]\n",
            " [  14    3    6    3   16   19  876    4   13    4]\n",
            " [   1    5   19   11    6    4    0  950   14   18]\n",
            " [  11    4   22   24   12   22   22    9  824   24]\n",
            " [   6    2    4   14   31   19    5    9   10  909]]\n",
            "Classification Report:\n",
            "               precision    recall  f1-score   support\n",
            "\n",
            "           0       0.95      0.95      0.95       980\n",
            "           1       0.97      0.97      0.97      1135\n",
            "           2       0.91      0.90      0.90      1032\n",
            "           3       0.89      0.89      0.89      1010\n",
            "           4       0.90      0.91      0.90       982\n",
            "           5       0.87      0.88      0.88       892\n",
            "           6       0.92      0.91      0.91       958\n",
            "           7       0.93      0.92      0.93      1028\n",
            "           8       0.86      0.85      0.85       974\n",
            "           9       0.89      0.90      0.89      1009\n",
            "\n",
            "    accuracy                           0.91     10000\n",
            "   macro avg       0.91      0.91      0.91     10000\n",
            "weighted avg       0.91      0.91      0.91     10000\n",
            "\n"
          ]
        }
      ],
      "source": [
        "decision_tree = DecisionTreeClassifier(criterion=\"gini\")\n",
        "decision_tree.fit(aumented_df.iloc[:, 1:], aumented_df.iloc[:, 0])\n",
        "decision_tree_predictions = decision_tree.predict(test_df.iloc[:, 1:])\n",
        "\n",
        "aumented_dt_acc_score = accuracy_score(test_df.iloc[:, 0], decision_tree_predictions)\n",
        "aumented_dt_conf_matrix = confusion_matrix(test_df.iloc[:, 0], decision_tree_predictions)\n",
        "aumented_dt_class_report = classification_report(test_df.iloc[:, 0], decision_tree_predictions)\n",
        "\n",
        "print(\"Accuracy Score:\", aumented_dt_acc_score)\n",
        "print(\"Confusion Matrix:\\n\", aumented_dt_conf_matrix)\n",
        "print(\"Classification Report:\\n\", aumented_dt_class_report)"
      ]
    },
    {
      "cell_type": "code",
      "execution_count": null,
      "metadata": {
        "id": "AXlb5D9DKLlD"
      },
      "outputs": [],
      "source": [
        "best_accuracy = [0, 0]\n",
        "tune_df = pd.DataFrame(columns=[\"Accuracy Score\", \"Criterion\", \"Min. Leafs\", \"Max. depth\"])\n",
        "for i in range(1, 1000, 10):\n",
        "  for choice in [\"gini\", \"entropy\", \"log_loss\"]:\n",
        "    for d in range(1, 42, 2):\n",
        "      for min_weigth in range(1, 6):\n",
        "        fine_tuned_decision_tree = DecisionTreeClassifier(criterion=choice, min_samples_leaf=i, max_depth=d, min_weight_fraction_leaf=min_weigth/10)\n",
        "        fine_tuned_decision_tree.fit(train_df.iloc[:, 1:], train_df.iloc[:, 0])\n",
        "        fine_tuned_decision_tree_predictions = fine_tuned_decision_tree.predict(test_df.iloc[:, 1:])\n",
        "        acc_score = accuracy_score(test_df.iloc[:, 0], fine_tuned_decision_tree_predictions)\n",
        "        tune_df = pd.concat([tune_df, pd.DataFrame(columns=[\"Accuracy Score\", \"Criterion\", \"Min. Leafs\", \"Max. depth\"], data=[[acc_score, choice, i, d]])], ignore_index = True)\n",
        "        if acc_score > best_accuracy[0]:\n",
        "          best_accuracy = [acc_score, fine_tuned_decision_tree]\n",
        "\n",
        "print(tune_df)\n",
        "tuned_decision_tree = best_accuracy[1]\n",
        "print(\"Best parameters:\")\n",
        "print(tuned_decision_tree.get_params())"
      ]
    },
    {
      "cell_type": "markdown",
      "metadata": {
        "id": "lkMTk4GdtgOL"
      },
      "source": []
    },
    {
      "cell_type": "code",
      "execution_count": null,
      "metadata": {
        "colab": {
          "base_uri": "https://localhost:8080/",
          "height": 226
        },
        "id": "4ZqbsorktKXj",
        "outputId": "0c73bc0b-9028-4a86-cc4e-a0033f18cef4"
      },
      "outputs": [
        {
          "data": {
            "application/vnd.google.colaboratory.intrinsic+json": {
              "repr_error": "0",
              "type": "dataframe"
            },
            "text/html": [
              "\n",
              "  <div id=\"df-96c6f5ec-24df-49da-ae9d-84b129924ff0\" class=\"colab-df-container\">\n",
              "    <div>\n",
              "<style scoped>\n",
              "    .dataframe tbody tr th:only-of-type {\n",
              "        vertical-align: middle;\n",
              "    }\n",
              "\n",
              "    .dataframe tbody tr th {\n",
              "        vertical-align: top;\n",
              "    }\n",
              "\n",
              "    .dataframe thead th {\n",
              "        text-align: right;\n",
              "    }\n",
              "</style>\n",
              "<table border=\"1\" class=\"dataframe\">\n",
              "  <thead>\n",
              "    <tr style=\"text-align: right;\">\n",
              "      <th></th>\n",
              "      <th>Accuracy Score</th>\n",
              "      <th>Criterion</th>\n",
              "      <th>Min. Leafs</th>\n",
              "      <th>Max. depth</th>\n",
              "    </tr>\n",
              "  </thead>\n",
              "  <tbody>\n",
              "    <tr>\n",
              "      <th>165</th>\n",
              "      <td>0.5108</td>\n",
              "      <td>gini</td>\n",
              "      <td>21</td>\n",
              "      <td>31</td>\n",
              "    </tr>\n",
              "    <tr>\n",
              "      <th>310</th>\n",
              "      <td>0.5108</td>\n",
              "      <td>gini</td>\n",
              "      <td>41</td>\n",
              "      <td>21</td>\n",
              "    </tr>\n",
              "    <tr>\n",
              "      <th>690</th>\n",
              "      <td>0.5108</td>\n",
              "      <td>gini</td>\n",
              "      <td>91</td>\n",
              "      <td>31</td>\n",
              "    </tr>\n",
              "    <tr>\n",
              "      <th>235</th>\n",
              "      <td>0.5108</td>\n",
              "      <td>gini</td>\n",
              "      <td>31</td>\n",
              "      <td>21</td>\n",
              "    </tr>\n",
              "    <tr>\n",
              "      <th>615</th>\n",
              "      <td>0.5108</td>\n",
              "      <td>gini</td>\n",
              "      <td>81</td>\n",
              "      <td>31</td>\n",
              "    </tr>\n",
              "  </tbody>\n",
              "</table>\n",
              "</div>\n",
              "    <div class=\"colab-df-buttons\">\n",
              "\n",
              "  <div class=\"colab-df-container\">\n",
              "    <button class=\"colab-df-convert\" onclick=\"convertToInteractive('df-96c6f5ec-24df-49da-ae9d-84b129924ff0')\"\n",
              "            title=\"Convert this dataframe to an interactive table.\"\n",
              "            style=\"display:none;\">\n",
              "\n",
              "  <svg xmlns=\"http://www.w3.org/2000/svg\" height=\"24px\" viewBox=\"0 -960 960 960\">\n",
              "    <path d=\"M120-120v-720h720v720H120Zm60-500h600v-160H180v160Zm220 220h160v-160H400v160Zm0 220h160v-160H400v160ZM180-400h160v-160H180v160Zm440 0h160v-160H620v160ZM180-180h160v-160H180v160Zm440 0h160v-160H620v160Z\"/>\n",
              "  </svg>\n",
              "    </button>\n",
              "\n",
              "  <style>\n",
              "    .colab-df-container {\n",
              "      display:flex;\n",
              "      gap: 12px;\n",
              "    }\n",
              "\n",
              "    .colab-df-convert {\n",
              "      background-color: #E8F0FE;\n",
              "      border: none;\n",
              "      border-radius: 50%;\n",
              "      cursor: pointer;\n",
              "      display: none;\n",
              "      fill: #1967D2;\n",
              "      height: 32px;\n",
              "      padding: 0 0 0 0;\n",
              "      width: 32px;\n",
              "    }\n",
              "\n",
              "    .colab-df-convert:hover {\n",
              "      background-color: #E2EBFA;\n",
              "      box-shadow: 0px 1px 2px rgba(60, 64, 67, 0.3), 0px 1px 3px 1px rgba(60, 64, 67, 0.15);\n",
              "      fill: #174EA6;\n",
              "    }\n",
              "\n",
              "    .colab-df-buttons div {\n",
              "      margin-bottom: 4px;\n",
              "    }\n",
              "\n",
              "    [theme=dark] .colab-df-convert {\n",
              "      background-color: #3B4455;\n",
              "      fill: #D2E3FC;\n",
              "    }\n",
              "\n",
              "    [theme=dark] .colab-df-convert:hover {\n",
              "      background-color: #434B5C;\n",
              "      box-shadow: 0px 1px 3px 1px rgba(0, 0, 0, 0.15);\n",
              "      filter: drop-shadow(0px 1px 2px rgba(0, 0, 0, 0.3));\n",
              "      fill: #FFFFFF;\n",
              "    }\n",
              "  </style>\n",
              "\n",
              "    <script>\n",
              "      const buttonEl =\n",
              "        document.querySelector('#df-96c6f5ec-24df-49da-ae9d-84b129924ff0 button.colab-df-convert');\n",
              "      buttonEl.style.display =\n",
              "        google.colab.kernel.accessAllowed ? 'block' : 'none';\n",
              "\n",
              "      async function convertToInteractive(key) {\n",
              "        const element = document.querySelector('#df-96c6f5ec-24df-49da-ae9d-84b129924ff0');\n",
              "        const dataTable =\n",
              "          await google.colab.kernel.invokeFunction('convertToInteractive',\n",
              "                                                    [key], {});\n",
              "        if (!dataTable) return;\n",
              "\n",
              "        const docLinkHtml = 'Like what you see? Visit the ' +\n",
              "          '<a target=\"_blank\" href=https://colab.research.google.com/notebooks/data_table.ipynb>data table notebook</a>'\n",
              "          + ' to learn more about interactive tables.';\n",
              "        element.innerHTML = '';\n",
              "        dataTable['output_type'] = 'display_data';\n",
              "        await google.colab.output.renderOutput(dataTable, element);\n",
              "        const docLink = document.createElement('div');\n",
              "        docLink.innerHTML = docLinkHtml;\n",
              "        element.appendChild(docLink);\n",
              "      }\n",
              "    </script>\n",
              "  </div>\n",
              "\n",
              "\n",
              "<div id=\"df-0ea70ec7-1dad-46e8-beaf-4c6814a3764f\">\n",
              "  <button class=\"colab-df-quickchart\" onclick=\"quickchart('df-0ea70ec7-1dad-46e8-beaf-4c6814a3764f')\"\n",
              "            title=\"Suggest charts\"\n",
              "            style=\"display:none;\">\n",
              "\n",
              "<svg xmlns=\"http://www.w3.org/2000/svg\" height=\"24px\"viewBox=\"0 0 24 24\"\n",
              "     width=\"24px\">\n",
              "    <g>\n",
              "        <path d=\"M19 3H5c-1.1 0-2 .9-2 2v14c0 1.1.9 2 2 2h14c1.1 0 2-.9 2-2V5c0-1.1-.9-2-2-2zM9 17H7v-7h2v7zm4 0h-2V7h2v10zm4 0h-2v-4h2v4z\"/>\n",
              "    </g>\n",
              "</svg>\n",
              "  </button>\n",
              "\n",
              "<style>\n",
              "  .colab-df-quickchart {\n",
              "      --bg-color: #E8F0FE;\n",
              "      --fill-color: #1967D2;\n",
              "      --hover-bg-color: #E2EBFA;\n",
              "      --hover-fill-color: #174EA6;\n",
              "      --disabled-fill-color: #AAA;\n",
              "      --disabled-bg-color: #DDD;\n",
              "  }\n",
              "\n",
              "  [theme=dark] .colab-df-quickchart {\n",
              "      --bg-color: #3B4455;\n",
              "      --fill-color: #D2E3FC;\n",
              "      --hover-bg-color: #434B5C;\n",
              "      --hover-fill-color: #FFFFFF;\n",
              "      --disabled-bg-color: #3B4455;\n",
              "      --disabled-fill-color: #666;\n",
              "  }\n",
              "\n",
              "  .colab-df-quickchart {\n",
              "    background-color: var(--bg-color);\n",
              "    border: none;\n",
              "    border-radius: 50%;\n",
              "    cursor: pointer;\n",
              "    display: none;\n",
              "    fill: var(--fill-color);\n",
              "    height: 32px;\n",
              "    padding: 0;\n",
              "    width: 32px;\n",
              "  }\n",
              "\n",
              "  .colab-df-quickchart:hover {\n",
              "    background-color: var(--hover-bg-color);\n",
              "    box-shadow: 0 1px 2px rgba(60, 64, 67, 0.3), 0 1px 3px 1px rgba(60, 64, 67, 0.15);\n",
              "    fill: var(--button-hover-fill-color);\n",
              "  }\n",
              "\n",
              "  .colab-df-quickchart-complete:disabled,\n",
              "  .colab-df-quickchart-complete:disabled:hover {\n",
              "    background-color: var(--disabled-bg-color);\n",
              "    fill: var(--disabled-fill-color);\n",
              "    box-shadow: none;\n",
              "  }\n",
              "\n",
              "  .colab-df-spinner {\n",
              "    border: 2px solid var(--fill-color);\n",
              "    border-color: transparent;\n",
              "    border-bottom-color: var(--fill-color);\n",
              "    animation:\n",
              "      spin 1s steps(1) infinite;\n",
              "  }\n",
              "\n",
              "  @keyframes spin {\n",
              "    0% {\n",
              "      border-color: transparent;\n",
              "      border-bottom-color: var(--fill-color);\n",
              "      border-left-color: var(--fill-color);\n",
              "    }\n",
              "    20% {\n",
              "      border-color: transparent;\n",
              "      border-left-color: var(--fill-color);\n",
              "      border-top-color: var(--fill-color);\n",
              "    }\n",
              "    30% {\n",
              "      border-color: transparent;\n",
              "      border-left-color: var(--fill-color);\n",
              "      border-top-color: var(--fill-color);\n",
              "      border-right-color: var(--fill-color);\n",
              "    }\n",
              "    40% {\n",
              "      border-color: transparent;\n",
              "      border-right-color: var(--fill-color);\n",
              "      border-top-color: var(--fill-color);\n",
              "    }\n",
              "    60% {\n",
              "      border-color: transparent;\n",
              "      border-right-color: var(--fill-color);\n",
              "    }\n",
              "    80% {\n",
              "      border-color: transparent;\n",
              "      border-right-color: var(--fill-color);\n",
              "      border-bottom-color: var(--fill-color);\n",
              "    }\n",
              "    90% {\n",
              "      border-color: transparent;\n",
              "      border-bottom-color: var(--fill-color);\n",
              "    }\n",
              "  }\n",
              "</style>\n",
              "\n",
              "  <script>\n",
              "    async function quickchart(key) {\n",
              "      const quickchartButtonEl =\n",
              "        document.querySelector('#' + key + ' button');\n",
              "      quickchartButtonEl.disabled = true;  // To prevent multiple clicks.\n",
              "      quickchartButtonEl.classList.add('colab-df-spinner');\n",
              "      try {\n",
              "        const charts = await google.colab.kernel.invokeFunction(\n",
              "            'suggestCharts', [key], {});\n",
              "      } catch (error) {\n",
              "        console.error('Error during call to suggestCharts:', error);\n",
              "      }\n",
              "      quickchartButtonEl.classList.remove('colab-df-spinner');\n",
              "      quickchartButtonEl.classList.add('colab-df-quickchart-complete');\n",
              "    }\n",
              "    (() => {\n",
              "      let quickchartButtonEl =\n",
              "        document.querySelector('#df-0ea70ec7-1dad-46e8-beaf-4c6814a3764f button');\n",
              "      quickchartButtonEl.style.display =\n",
              "        google.colab.kernel.accessAllowed ? 'block' : 'none';\n",
              "    })();\n",
              "  </script>\n",
              "</div>\n",
              "\n",
              "    </div>\n",
              "  </div>\n"
            ],
            "text/plain": [
              "     Accuracy Score Criterion Min. Leafs Max. depth\n",
              "165          0.5108      gini         21         31\n",
              "310          0.5108      gini         41         21\n",
              "690          0.5108      gini         91         31\n",
              "235          0.5108      gini         31         21\n",
              "615          0.5108      gini         81         31"
            ]
          },
          "execution_count": 20,
          "metadata": {},
          "output_type": "execute_result"
        }
      ],
      "source": [
        "tune_df.sort_values(by=[\"Accuracy Score\"], ascending=False).head()"
      ]
    },
    {
      "cell_type": "code",
      "execution_count": null,
      "metadata": {
        "colab": {
          "background_save": true,
          "base_uri": "https://localhost:8080/"
        },
        "id": "8V5OsncxXxvd",
        "outputId": "0f213174-c031-42bb-ac92-40135e12976c"
      },
      "outputs": [
        {
          "name": "stdout",
          "output_type": "stream",
          "text": [
            "Fitting 5 folds for each of 36 candidates, totalling 180 fits\n",
            "Fitting 5 folds for each of 36 candidates, totalling 180 fits\n",
            "Best Parameters: {'criterion': 'entropy', 'max_depth': 20, 'min_samples_leaf': 5, 'min_samples_split': 5}\n",
            "Best Score: 0.87335\n"
          ]
        }
      ],
      "source": [
        "from sklearn.model_selection import GridSearchCV\n",
        "param_grid = {\n",
        "    'criterion': ['gini', 'entropy'],\n",
        "    'max_depth': [10, 20],\n",
        "    'min_samples_split': [2, 5, 10],\n",
        "    'min_samples_leaf': [5, 10, 15]\n",
        "}\n",
        "grid_search = GridSearchCV(estimator=DecisionTreeClassifier(), param_grid=param_grid, cv=5, scoring=\"accuracy\", verbose=1, n_jobs=-1)\n",
        "grid_search.fit(X_train, y_train)\n",
        "grid_search.fit(train_df.iloc[:, 1:], train_df.iloc[:, 0])\n",
        "print(\"Best Parameters:\", grid_search.best_params_)\n",
        "print(\"Best Score:\", grid_search.best_score_)"
      ]
    },
    {
      "cell_type": "code",
      "source": [
        "from sklearn.model_selection import GridSearchCV\n",
        "param_grid = {\n",
        "    'criterion': ['gini', 'entropy', \"log_loss\"],\n",
        "    'max_depth': [30],\n",
        "    'min_samples_split': [3, 5, 7],\n",
        "    'min_samples_leaf': [2, 4, 6]\n",
        "}\n",
        "grid_search = GridSearchCV(estimator=DecisionTreeClassifier(), param_grid=param_grid, cv=5, scoring=\"accuracy\", verbose=1, n_jobs=-1)\n",
        "grid_search.fit(X_train, y_train)\n",
        "grid_search.fit(train_df.iloc[:, 1:], train_df.iloc[:, 0])\n",
        "print(\"Best Parameters:\", grid_search.best_params_)\n",
        "print(\"Best Score:\", grid_search.best_score_)"
      ],
      "metadata": {
        "colab": {
          "base_uri": "https://localhost:8080/"
        },
        "id": "l7GZtSOWAaDX",
        "outputId": "09e3dc2b-1c3f-4661-92de-39356112579b"
      },
      "execution_count": null,
      "outputs": [
        {
          "metadata": {
            "tags": null
          },
          "name": "stdout",
          "output_type": "stream",
          "text": [
            "Fitting 5 folds for each of 27 candidates, totalling 135 fits\n"
          ]
        },
        {
          "output_type": "stream",
          "name": "stderr",
          "text": [
            "/usr/local/lib/python3.10/dist-packages/numpy/ma/core.py:2820: RuntimeWarning: invalid value encountered in cast\n",
            "  _data = np.array(data, dtype=dtype, copy=copy,\n"
          ]
        },
        {
          "output_type": "stream",
          "name": "stdout",
          "text": [
            "Fitting 5 folds for each of 27 candidates, totalling 135 fits\n",
            "Best Parameters: {'criterion': 'log_loss', 'max_depth': 30, 'min_samples_leaf': 6, 'min_samples_split': 5}\n",
            "Best Score: 0.8730499999999999\n"
          ]
        }
      ]
    },
    {
      "cell_type": "code",
      "execution_count": null,
      "metadata": {
        "colab": {
          "base_uri": "https://localhost:8080/",
          "height": 422
        },
        "id": "5cPRR0_JCj8r",
        "outputId": "aa27c21c-00e6-4e59-fad6-74327c27268a"
      },
      "outputs": [
        {
          "data": {
            "image/png": "[encoded data removed]",
            "text/plain": [
              "<Figure size 1500x500 with 1 Axes>"
            ]
          },
          "metadata": {},
          "output_type": "display_data"
        }
      ],
      "source": [
        "from sklearn import tree\n",
        "import matplotlib.pyplot as plt\n",
        "fig = plt.figure(figsize=(15,5))\n",
        "f_names = list(train_df.columns.values.tolist())\n",
        "f_names = f_names[1:]\n",
        "t_names = [\"0\", \"1\", \"2\", \"3\", \"4\", \"5\", \"6\", \"7\", \"8\", \"9\"]\n",
        "tree.plot_tree(decision_tree, max_depth =1, feature_names = f_names,\n",
        "                   class_names=t_names, filled = True)\n",
        "plt.show()"
      ]
    },
    {
      "cell_type": "code",
      "execution_count": null,
      "metadata": {
        "colab": {
          "base_uri": "https://localhost:8080/"
        },
        "id": "kmttnwipFIG3",
        "outputId": "a3f6e072-70af-473b-ff4a-f62503f57c0f"
      },
      "outputs": [
        {
          "name": "stdout",
          "output_type": "stream",
          "text": [
            "|--- pixel351 <= 131.50\n",
            "|   |--- pixel569 <= 0.50\n",
            "|   |   |--- pixel431 <= 0.50\n",
            "|   |   |   |--- pixel406 <= 2.50\n",
            "|   |   |   |   |--- truncated branch of depth 30\n",
            "|   |   |   |--- pixel406 >  2.50\n",
            "|   |   |   |   |--- truncated branch of depth 19\n",
            "|   |   |--- pixel431 >  0.50\n",
            "|   |   |   |--- pixel212 <= 28.50\n",
            "|   |   |   |   |--- truncated branch of depth 47\n",
            "|   |   |   |--- pixel212 >  28.50\n",
            "|   |   |   |   |--- truncated branch of depth 38\n",
            "|   |--- pixel569 >  0.50\n",
            "|   |   |--- pixel436 <= 0.50\n",
            "|   |   |   |--- pixel490 <= 22.50\n",
            "|   |   |   |   |--- truncated branch of depth 33\n",
            "|   |   |   |--- pixel490 >  22.50\n",
            "|   |   |   |   |--- truncated branch of depth 11\n",
            "|   |   |--- pixel436 >  0.50\n",
            "|   |   |   |--- pixel347 <= 0.50\n",
            "|   |   |   |   |--- truncated branch of depth 24\n",
            "|   |   |   |--- pixel347 >  0.50\n",
            "|   |   |   |   |--- truncated branch of depth 19\n",
            "|--- pixel351 >  131.50\n",
            "|   |--- pixel490 <= 26.50\n",
            "|   |   |--- pixel291 <= 34.50\n",
            "|   |   |   |--- pixel487 <= 58.50\n",
            "|   |   |   |   |--- truncated branch of depth 24\n",
            "|   |   |   |--- pixel487 >  58.50\n",
            "|   |   |   |   |--- truncated branch of depth 12\n",
            "|   |   |--- pixel291 >  34.50\n",
            "|   |   |   |--- pixel298 <= 5.50\n",
            "|   |   |   |   |--- truncated branch of depth 19\n",
            "|   |   |   |--- pixel298 >  5.50\n",
            "|   |   |   |   |--- truncated branch of depth 19\n",
            "|   |--- pixel490 >  26.50\n",
            "|   |   |--- pixel235 <= 0.50\n",
            "|   |   |   |--- pixel403 <= 0.50\n",
            "|   |   |   |   |--- truncated branch of depth 46\n",
            "|   |   |   |--- pixel403 >  0.50\n",
            "|   |   |   |   |--- truncated branch of depth 17\n",
            "|   |   |--- pixel235 >  0.50\n",
            "|   |   |   |--- pixel659 <= 0.50\n",
            "|   |   |   |   |--- truncated branch of depth 20\n",
            "|   |   |   |--- pixel659 >  0.50\n",
            "|   |   |   |   |--- truncated branch of depth 17\n",
            "\n"
          ]
        }
      ],
      "source": [
        "from sklearn.tree import export_text\n",
        "f_names = list(train_df.columns.values.tolist())\n",
        "f_names = f_names[1:]\n",
        "r = export_text(decision_tree, feature_names = f_names, max_depth = 3)\n",
        "print(r)"
      ]
    },
    {
      "cell_type": "markdown",
      "metadata": {
        "id": "MBV5fZE7vdRV"
      },
      "source": [
        "Trenowanie zespołu klasyfikatorów RandomForest z optymalizacją parametrów."
      ]
    },
    {
      "cell_type": "code",
      "execution_count": null,
      "metadata": {
        "colab": {
          "base_uri": "https://localhost:8080/"
        },
        "id": "TJCaH0Etozwv",
        "outputId": "8b3ed656-e97a-4866-e26a-01d083f6c8d6"
      },
      "outputs": [
        {
          "name": "stdout",
          "output_type": "stream",
          "text": [
            "Accuracy Score: 0.9693\n",
            "Confusion Matrix:\n",
            " [[ 970    0    0    0    0    3    2    1    4    0]\n",
            " [   0 1125    2    2    0    2    2    0    2    0]\n",
            " [   7    0  997    5    2    0    4    9    8    0]\n",
            " [   0    0    8  975    0    8    0   10    6    3]\n",
            " [   1    0    3    0  953    0    4    0    3   18]\n",
            " [   3    0    2   11    2  859    5    2    5    3]\n",
            " [   8    3    0    0    3    4  937    0    3    0]\n",
            " [   1    3   23    0    3    0    0  985    3   10]\n",
            " [   3    0    6    9    4    6    5    3  933    5]\n",
            " [   8    6    1   14   11    1    1    4    4  959]]\n"
          ]
        }
      ],
      "source": [
        "from sklearn.ensemble import RandomForestClassifier\n",
        "rf_tree = RandomForestClassifier()\n",
        "rf_tree.fit(train_df.iloc[:, 1:], train_df.iloc[:, 0])\n",
        "rf_tree_predictions = rf_tree.predict(test_df.iloc[:, 1:])\n",
        "rf_acc_score = accuracy_score(test_df.iloc[:, 0], rf_tree_predictions)\n",
        "rf_conf_matrix = confusion_matrix(test_df.iloc[:, 0], rf_tree_predictions)\n",
        "print(\"Accuracy Score:\", rf_acc_score)\n",
        "print(\"Confusion Matrix:\\n\", rf_conf_matrix)\n"
      ]
    },
    {
      "cell_type": "code",
      "execution_count": null,
      "metadata": {
        "colab": {
          "base_uri": "https://localhost:8080/"
        },
        "id": "gH8-2tvD2eio",
        "outputId": "6dc0c56c-ac6a-417b-a556-9444f9280d4b"
      },
      "outputs": [
        {
          "name": "stdout",
          "output_type": "stream",
          "text": [
            "Accuracy Score: 0.9693\n",
            "Confusion Matrix:\n",
            " [[ 970    0    0    0    0    3    2    1    4    0]\n",
            " [   0 1125    2    2    0    2    2    0    2    0]\n",
            " [   7    0  997    5    2    0    4    9    8    0]\n",
            " [   0    0    8  975    0    8    0   10    6    3]\n",
            " [   1    0    3    0  953    0    4    0    3   18]\n",
            " [   3    0    2   11    2  859    5    2    5    3]\n",
            " [   8    3    0    0    3    4  937    0    3    0]\n",
            " [   1    3   23    0    3    0    0  985    3   10]\n",
            " [   3    0    6    9    4    6    5    3  933    5]\n",
            " [   8    6    1   14   11    1    1    4    4  959]]\n"
          ]
        }
      ],
      "source": [
        "from sklearn.ensemble import RandomForestClassifier\n",
        "rf_tree = RandomForestClassifier()\n",
        "rf_tree.fit(aumented_df.iloc[:, 1:], aumented_df.iloc[:, 0])\n",
        "aumented_rf_tree_predictions = rf_tree.predict(test_df.iloc[:, 1:])\n",
        "aumented_rf_acc_score = accuracy_score(test_df.iloc[:, 0], rf_tree_predictions)\n",
        "aumented_rf_conf_matrix = confusion_matrix(test_df.iloc[:, 0], rf_tree_predictions)\n",
        "print(\"Accuracy Score:\", aumented_rf_acc_score)\n",
        "print(\"Confusion Matrix:\\n\", aumented_rf_conf_matrix)"
      ]
    },
    {
      "cell_type": "markdown",
      "metadata": {
        "id": "c4oyve_7vdDb"
      },
      "source": [
        "Trenowanie zespołu klasyfikatorów ExtraTree z optymalizacją parametrów."
      ]
    },
    {
      "cell_type": "code",
      "execution_count": null,
      "metadata": {
        "colab": {
          "base_uri": "https://localhost:8080/"
        },
        "id": "uMFdvSF6pZoW",
        "outputId": "04ed061f-d130-4c18-c02f-9d254031224a"
      },
      "outputs": [
        {
          "name": "stdout",
          "output_type": "stream",
          "text": [
            "Accuracy Score: 0.972\n",
            "Confusion Matrix:\n",
            " [[ 970    0    1    0    0    2    3    1    3    0]\n",
            " [   0 1122    3    3    0    1    3    0    2    1]\n",
            " [   6    0  998    7    3    0    2   10    6    0]\n",
            " [   0    0    6  978    0   10    0    8    6    2]\n",
            " [   1    0    1    0  955    0    6    2    3   14]\n",
            " [   3    0    1   10    2  864    4    1    5    2]\n",
            " [   6    3    0    1    2    4  941    0    1    0]\n",
            " [   1    4   19    0    0    0    0  991    1   12]\n",
            " [   6    0    5    5    4    4    0    4  940    6]\n",
            " [   5    5    3    9   11    4    1    6    4  961]]\n"
          ]
        }
      ],
      "source": [
        "from sklearn.ensemble import ExtraTreesClassifier\n",
        "et_tree = ExtraTreesClassifier()\n",
        "et_tree.fit(train_df.iloc[:, 1:], train_df.iloc[:, 0])\n",
        "et_tree_predictions = et_tree.predict(test_df.iloc[:, 1:])\n",
        "et_acc_score = accuracy_score(test_df.iloc[:, 0], et_tree_predictions)\n",
        "et_conf_matrix = confusion_matrix(test_df.iloc[:, 0], et_tree_predictions)\n",
        "print(\"Accuracy Score:\", et_acc_score)\n",
        "print(\"Confusion Matrix:\\n\", et_conf_matrix)\n"
      ]
    },
    {
      "cell_type": "code",
      "execution_count": null,
      "metadata": {
        "colab": {
          "base_uri": "https://localhost:8080/"
        },
        "id": "KoagnnsdKFHI",
        "outputId": "26066025-599d-4be3-ec6d-4c3585f87b0c"
      },
      "outputs": [
        {
          "name": "stdout",
          "output_type": "stream",
          "text": [
            "Accuracy Score: 0.972\n",
            "Confusion Matrix:\n",
            " [[ 970    0    1    0    0    2    3    1    3    0]\n",
            " [   0 1122    3    3    0    1    3    0    2    1]\n",
            " [   6    0  998    7    3    0    2   10    6    0]\n",
            " [   0    0    6  978    0   10    0    8    6    2]\n",
            " [   1    0    1    0  955    0    6    2    3   14]\n",
            " [   3    0    1   10    2  864    4    1    5    2]\n",
            " [   6    3    0    1    2    4  941    0    1    0]\n",
            " [   1    4   19    0    0    0    0  991    1   12]\n",
            " [   6    0    5    5    4    4    0    4  940    6]\n",
            " [   5    5    3    9   11    4    1    6    4  961]]\n"
          ]
        }
      ],
      "source": [
        "from sklearn.ensemble import ExtraTreesClassifier\n",
        "et_tree = ExtraTreesClassifier()\n",
        "et_tree.fit(aumented_df.iloc[:, 1:], aumented_df.iloc[:, 0])\n",
        "aumented_et_tree_predictions = et_tree.predict(test_df.iloc[:, 1:])\n",
        "aumented_et_acc_score = accuracy_score(test_df.iloc[:, 0], et_tree_predictions)\n",
        "aumented_et_conf_matrix = confusion_matrix(test_df.iloc[:, 0], et_tree_predictions)\n",
        "print(\"Accuracy Score:\", et_acc_score)\n",
        "print(\"Confusion Matrix:\\n\", et_conf_matrix)\n"
      ]
    },
    {
      "cell_type": "markdown",
      "metadata": {
        "id": "tcaMtJmNplW1"
      },
      "source": [
        "Trenowanie zespołu klasyfikatorów XGBoost z optymalizacją parametrów."
      ]
    },
    {
      "cell_type": "code",
      "execution_count": null,
      "metadata": {
        "colab": {
          "base_uri": "https://localhost:8080/"
        },
        "id": "6dflBLA3ppsw",
        "outputId": "fce4aa3d-7d60-4452-e95c-54f481692aee"
      },
      "outputs": [
        {
          "name": "stdout",
          "output_type": "stream",
          "text": [
            "Requirement already satisfied: xgboost in /usr/local/lib/python3.10/dist-packages (2.1.2)\n",
            "Requirement already satisfied: numpy in /usr/local/lib/python3.10/dist-packages (from xgboost) (1.26.4)\n",
            "Requirement already satisfied: nvidia-nccl-cu12 in /usr/local/lib/python3.10/dist-packages (from xgboost) (2.23.4)\n",
            "Requirement already satisfied: scipy in /usr/local/lib/python3.10/dist-packages (from xgboost) (1.13.1)\n"
          ]
        }
      ],
      "source": [
        "!pip install xgboost"
      ]
    },
    {
      "cell_type": "code",
      "execution_count": null,
      "metadata": {
        "colab": {
          "base_uri": "https://localhost:8080/"
        },
        "id": "ncHVZNNWpsEh",
        "outputId": "6f9334a9-36de-42e3-b78b-5255afb643dd"
      },
      "outputs": [
        {
          "name": "stdout",
          "output_type": "stream",
          "text": [
            "Accuracy Score: 0.9795\n",
            "Confusion Matrix:\n",
            " [[ 970    1    0    0    0    2    3    1    2    1]\n",
            " [   1 1125    3    2    0    1    2    1    0    0]\n",
            " [   5    0 1008    7    2    0    0    6    3    1]\n",
            " [   1    0    3  990    0    3    0    6    4    3]\n",
            " [   0    0    2    1  958    0    4    0    2   15]\n",
            " [   2    1    0    5    0  872    4    3    3    2]\n",
            " [   5    3    1    0    2    4  940    0    3    0]\n",
            " [   1    1   13    1    2    0    0 1000    1    9]\n",
            " [   3    1    2    3    3    4    2    1  951    4]\n",
            " [   5    4    1    5    6    0    0    4    3  981]]\n"
          ]
        }
      ],
      "source": [
        "import xgboost as xgb\n",
        "xgb_tree = xgb.XGBClassifier()\n",
        "xgb_tree.fit(train_df.iloc[:, 1:], train_df.iloc[:, 0])\n",
        "xgb_tree_predictions = xgb_tree.predict(test_df.iloc[:, 1:])\n",
        "xgb_acc_score = accuracy_score(test_df.iloc[:, 0], xgb_tree_predictions)\n",
        "xgb_conf_matrix = confusion_matrix(test_df.iloc[:, 0], xgb_tree_predictions)\n",
        "print(\"Accuracy Score:\", xgb_acc_score)\n",
        "print(\"Confusion Matrix:\\n\", xgb_conf_matrix)"
      ]
    },
    {
      "cell_type": "code",
      "execution_count": null,
      "metadata": {
        "colab": {
          "base_uri": "https://localhost:8080/"
        },
        "id": "1pIDpSdcATUM",
        "outputId": "141166ff-07d6-4f49-e2f7-341cfdee5572"
      },
      "outputs": [
        {
          "name": "stdout",
          "output_type": "stream",
          "text": [
            "Accuracy Score: 0.9845\n",
            "Confusion Matrix:\n",
            " [[ 975    0    0    0    0    0    1    1    2    1]\n",
            " [   1 1127    2    1    1    0    1    1    1    0]\n",
            " [   0    0 1016    4    0    0    0    5    6    1]\n",
            " [   0    0    1  997    0    3    0    3    3    3]\n",
            " [   0    0    3    0  960    0    3    1    3   12]\n",
            " [   2    0    0    4    1  877    2    0    4    2]\n",
            " [   6    3    0    0    4    2  939    0    4    0]\n",
            " [   0    1   10    1    1    0    0 1007    2    6]\n",
            " [   3    0    1    0    2    2    1    1  962    2]\n",
            " [   5    5    2    3    4    1    0    1    3  985]]\n"
          ]
        }
      ],
      "source": [
        "import xgboost as xgb\n",
        "xgb_tree = xgb.XGBClassifier()\n",
        "xgb_tree.fit(aumented_df.iloc[:, 1:], aumented_df.iloc[:, 0])\n",
        "xgb_tree_predictions = xgb_tree.predict(test_df.iloc[:, 1:])\n",
        "xgb_acc_score = accuracy_score(test_df.iloc[:, 0], xgb_tree_predictions)\n",
        "xgb_conf_matrix = confusion_matrix(test_df.iloc[:, 0], xgb_tree_predictions)\n",
        "print(\"Accuracy Score:\", xgb_acc_score)\n",
        "print(\"Confusion Matrix:\\n\", xgb_conf_matrix)"
      ]
    },
    {
      "cell_type": "markdown",
      "metadata": {
        "id": "aj0LuFeldV8T"
      },
      "source": [
        "![image.png](data:image/png;base64,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)"
      ]
    }
  ],
  "metadata": {
    "colab": {
      "provenance": []
    },
    "kernelspec": {
      "display_name": "Python 3",
      "name": "python3"
    },
    "language_info": {
      "name": "python"
    }
  },
  "nbformat": 4,
  "nbformat_minor": 0
}